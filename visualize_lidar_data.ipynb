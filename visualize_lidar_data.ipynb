{
 "cells": [
  {
   "cell_type": "code",
   "id": "initial_id",
   "metadata": {
    "collapsed": true,
    "ExecuteTime": {
     "end_time": "2024-12-07T06:10:42.168071Z",
     "start_time": "2024-12-07T06:10:42.161965Z"
    }
   },
   "source": [
    "import tensorflow as tf\n",
    "import dask.dataframe as dd\n",
    "from waymo_open_dataset import v2\n",
    "import glob\n",
    "import matplotlib.pyplot as plt\n",
    "from waymo_open_dataset.utils.range_image_utils import build_camera_depth_image\n",
    "from waymo_open_dataset.v2.perception.utils import lidar_utils"
   ],
   "outputs": [],
   "execution_count": 2
  },
  {
   "metadata": {
    "ExecuteTime": {
     "end_time": "2024-12-07T06:10:57.636274Z",
     "start_time": "2024-12-07T06:10:57.632599Z"
    }
   },
   "cell_type": "code",
   "source": [
    "search_path = '/home/meowater/Desktop/training/lidar/'\n",
    "file_list = glob.glob(search_path + '*.parquet')\n"
   ],
   "id": "a8058b883fc904ea",
   "outputs": [
    {
     "name": "stdout",
     "output_type": "stream",
     "text": [
      "798\n"
     ]
    }
   ],
   "execution_count": 5
  },
  {
   "metadata": {
    "ExecuteTime": {
     "end_time": "2024-12-07T06:11:17.647832Z",
     "start_time": "2024-12-07T06:11:17.645145Z"
    }
   },
   "cell_type": "code",
   "source": [
    "dataset_dir = '/home/meowater/Desktop/training/'\n",
    "\n",
    "def read(tag: str, context_name) -> dd.DataFrame:\n",
    "  \"\"\"Creates a Dask DataFrame for the component specified by its tag.\"\"\"\n",
    "  paths = tf.io.gfile.glob(f'{dataset_dir}/{tag}/*{context_name}.parquet')\n",
    "  return dd.read_parquet(paths)"
   ],
   "id": "f42602644f8e1941",
   "outputs": [],
   "execution_count": 6
  },
  {
   "metadata": {
    "ExecuteTime": {
     "end_time": "2024-12-07T06:11:19.444210Z",
     "start_time": "2024-12-07T06:11:19.441430Z"
    }
   },
   "cell_type": "code",
   "source": [
    "def get_extrinsic(calibration):\n",
    "  \"\"\"Projects from vehicle coordinate system to image with global shutter.\n",
    "\n",
    "  Arguments:\n",
    "    calibration: Camera calibration details (including intrinsics/extrinsics).\n",
    "  Returns:\n",
    "    Array of shape [N, 3], with the latter dimension composed of (u, v, ok).\n",
    "  \"\"\"\n",
    "\n",
    "  # Populate camera image metadata. Velocity and latency stats are filled with\n",
    "  # zeroes.\n",
    "  extrinsic = tf.reshape(\n",
    "      tf.constant(list(calibration.extrinsic.transform), dtype=tf.float32),\n",
    "      [1, 4, 4])\n",
    "\n",
    "  # Perform projection and return projected image coordinates (u, v, ok).\n",
    "  return extrinsic"
   ],
   "id": "c1fb2f20c42005bb",
   "outputs": [],
   "execution_count": 7
  },
  {
   "metadata": {
    "ExecuteTime": {
     "end_time": "2024-12-07T06:11:22.559393Z",
     "start_time": "2024-12-07T06:11:22.425102Z"
    }
   },
   "cell_type": "code",
   "source": [
    "# Lazily read DataFrames for all components.\n",
    "# context_name = '15832924468527961_1564_160_1584_160'\n",
    "context_name = '3270384983482134275_3220_000_3240_000'\n",
    "# context_name = '2598465433001774398_740_670_760_670'\n",
    "# context_name = '15832924468527961_1564_160_1584_160'\n",
    "# context_name = '5083516879091912247_3600_000_3620_000'\n",
    "cam_img_df = read('camera_image', context_name)\n",
    "lidar_df = read('lidar', context_name)\n",
    "\n",
    "lidar_calib_df = read('lidar_calibration', context_name)\n",
    "camera_calib_df = read('camera_calibration', context_name)\n",
    "vehicle_pose_df = read('vehicle_pose', context_name)\n",
    "projections_df = read('lidar_camera_projection', context_name)\n",
    "\n",
    "print(len(cam_img_df))\n",
    "print(len(lidar_df))\n",
    "print(len(lidar_calib_df))\n",
    "print(len(camera_calib_df))\n",
    "print(len(projections_df))"
   ],
   "id": "191406764fa0710f",
   "outputs": [
    {
     "name": "stdout",
     "output_type": "stream",
     "text": [
      "990\n",
      "990\n",
      "5\n",
      "5\n",
      "990\n"
     ]
    }
   ],
   "execution_count": 8
  },
  {
   "metadata": {
    "ExecuteTime": {
     "end_time": "2024-12-07T06:11:34.646309Z",
     "start_time": "2024-12-07T06:11:24.902632Z"
    }
   },
   "cell_type": "code",
   "source": [
    "_, r_cam = next(iter(cam_img_df.iterrows()))\n",
    "curr_image = v2.CameraImageComponent.from_dict(r_cam)\n",
    "\n",
    "_, r_lidar = next(iter(lidar_df.iterrows()))\n",
    "lidar = v2.LiDARComponent.from_dict(r_lidar)\n",
    "\n",
    "_, r_project = next(iter(projections_df.iterrows()))\n",
    "projections = v2.LiDARCameraProjectionComponent.from_dict(r_project)\n",
    "\n",
    "_, r_cam_config = next(iter(camera_calib_df.iterrows()))\n",
    "cam_config = v2.CameraCalibrationComponent.from_dict(r_cam_config)\n",
    "\n",
    "_, r_lidar_config = next(iter(lidar_calib_df.iterrows()))\n",
    "lidar_config = v2.LiDARCalibrationComponent.from_dict(r_lidar_config)\n",
    "\n"
   ],
   "id": "e09a6cc4022949ed",
   "outputs": [],
   "execution_count": 9
  },
  {
   "metadata": {
    "ExecuteTime": {
     "end_time": "2024-12-07T06:11:51.358764Z",
     "start_time": "2024-12-07T06:11:51.319824Z"
    }
   },
   "cell_type": "code",
   "source": [
    "\n",
    "lidar_coords = lidar_utils.convert_range_image_to_cartesian(lidar.range_image_return1, lidar_config)\n",
    "lidar_coords = tf.expand_dims(lidar_coords, axis=0)\n",
    "camera_extrinsic = get_extrinsic(cam_config)\n",
    "\n",
    "camera_image_size = [cam_config.height, cam_config.width]\n",
    "test2 = projections.range_image_return1.tensor\n",
    "test2 = tf.expand_dims(test2, axis=0)\n",
    "\n",
    "test = build_camera_depth_image(lidar_coords, camera_extrinsic,\n",
    "                                camera_projection=test2,\n",
    "                                camera_image_size=camera_image_size,\n",
    "                                camera_name=1)"
   ],
   "id": "36181d81ef7040b4",
   "outputs": [],
   "execution_count": 11
  },
  {
   "metadata": {
    "ExecuteTime": {
     "end_time": "2024-12-08T04:30:42.436919Z",
     "start_time": "2024-12-08T04:30:41.972076Z"
    }
   },
   "cell_type": "code",
   "source": [
    "# Ensure the pixel values are in the valid range [0, 1]\n",
    "\n",
    "from skimage.transform import resize\n",
    "\n",
    "\n",
    "test_img = tf.squeeze(test, axis=0)\n",
    "img_array = test_img.numpy()\n",
    "\n",
    "img_reduced1 = resize(img_array, (img_array.shape[0]//2, img_array.shape[1]//2), anti_aliasing=True)\n",
    "img_reduced2 = resize(img_array, (img_array.shape[0]//4, img_array.shape[1]//4), anti_aliasing=True)\n",
    "\n",
    "\n",
    "fig, axs = plt.subplots(2, 2, figsize=(12,12))\n",
    "axs[0, 0].imshow(tf.image.decode_jpeg(curr_image.image, ))\n",
    "# ax1.grid(False)\n",
    "# ax1.axis('off')\n",
    "range_max = 0.8\n",
    "axs[0, 1].imshow(img_array, cmap='tab20', vmin=0, vmax=range_max)\n",
    "# ax2.grid(False)\n",
    "# ax2.axis('off')\n",
    "\n",
    "\n",
    "axs[1, 0].imshow(img_reduced1, cmap='tab20', vmin=0, vmax=range_max)\n",
    "\n",
    "axs[1, 1].imshow(img_reduced2, cmap='tab20', vmin=0, vmax=range_max)\n",
    "plt.show()\n",
    "\n"
   ],
   "id": "f14c0a62d604e5e5",
   "outputs": [
    {
     "ename": "NameError",
     "evalue": "name 'tf' is not defined",
     "output_type": "error",
     "traceback": [
      "\u001B[0;31m---------------------------------------------------------------------------\u001B[0m",
      "\u001B[0;31mNameError\u001B[0m                                 Traceback (most recent call last)",
      "Cell \u001B[0;32mIn[1], line 6\u001B[0m\n\u001B[1;32m      1\u001B[0m \u001B[38;5;66;03m# Ensure the pixel values are in the valid range [0, 1]\u001B[39;00m\n\u001B[1;32m      3\u001B[0m \u001B[38;5;28;01mfrom\u001B[39;00m \u001B[38;5;21;01mskimage\u001B[39;00m\u001B[38;5;21;01m.\u001B[39;00m\u001B[38;5;21;01mtransform\u001B[39;00m \u001B[38;5;28;01mimport\u001B[39;00m resize\n\u001B[0;32m----> 6\u001B[0m test_img \u001B[38;5;241m=\u001B[39m \u001B[43mtf\u001B[49m\u001B[38;5;241m.\u001B[39msqueeze(test, axis\u001B[38;5;241m=\u001B[39m\u001B[38;5;241m0\u001B[39m)\n\u001B[1;32m      7\u001B[0m img_array \u001B[38;5;241m=\u001B[39m test_img\u001B[38;5;241m.\u001B[39mnumpy()\n\u001B[1;32m      9\u001B[0m img_reduced1 \u001B[38;5;241m=\u001B[39m resize(img_array, (img_array\u001B[38;5;241m.\u001B[39mshape[\u001B[38;5;241m0\u001B[39m]\u001B[38;5;241m/\u001B[39m\u001B[38;5;241m/\u001B[39m\u001B[38;5;241m2\u001B[39m, img_array\u001B[38;5;241m.\u001B[39mshape[\u001B[38;5;241m1\u001B[39m]\u001B[38;5;241m/\u001B[39m\u001B[38;5;241m/\u001B[39m\u001B[38;5;241m2\u001B[39m), anti_aliasing\u001B[38;5;241m=\u001B[39m\u001B[38;5;28;01mTrue\u001B[39;00m)\n",
      "\u001B[0;31mNameError\u001B[0m: name 'tf' is not defined"
     ]
    }
   ],
   "execution_count": 1
  },
  {
   "metadata": {},
   "cell_type": "code",
   "outputs": [],
   "execution_count": null,
   "source": "",
   "id": "ec7ecba542ecf69c"
  }
 ],
 "metadata": {
  "kernelspec": {
   "display_name": "Python 3",
   "language": "python",
   "name": "python3"
  },
  "language_info": {
   "codemirror_mode": {
    "name": "ipython",
    "version": 2
   },
   "file_extension": ".py",
   "mimetype": "text/x-python",
   "name": "python",
   "nbconvert_exporter": "python",
   "pygments_lexer": "ipython2",
   "version": "2.7.6"
  }
 },
 "nbformat": 4,
 "nbformat_minor": 5
}
