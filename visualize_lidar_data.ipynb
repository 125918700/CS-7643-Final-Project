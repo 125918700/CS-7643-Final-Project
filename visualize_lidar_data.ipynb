{
 "cells": [
  {
   "cell_type": "code",
   "id": "initial_id",
   "metadata": {
    "collapsed": true,
    "ExecuteTime": {
     "end_time": "2024-11-29T19:27:14.693987Z",
     "start_time": "2024-11-29T19:27:08.712935Z"
    }
   },
   "source": [
    "import tensorflow as tf\n",
    "import dask.dataframe as dd\n",
    "from waymo_open_dataset import v2\n",
    "import glob\n",
    "import numpy as np\n",
    "from waymo_open_dataset.utils.range_image_utils import build_camera_depth_image\n",
    "from waymo_open_dataset.v2.perception.utils import lidar_utils"
   ],
   "outputs": [
    {
     "name": "stderr",
     "output_type": "stream",
     "text": [
      "2024-11-29 11:27:10.240902: I tensorflow/core/platform/cpu_feature_guard.cc:182] This TensorFlow binary is optimized to use available CPU instructions in performance-critical operations.\n",
      "To enable the following instructions: AVX2 FMA, in other operations, rebuild TensorFlow with the appropriate compiler flags.\n",
      "2024-11-29 11:27:11.414673: W tensorflow/compiler/tf2tensorrt/utils/py_utils.cc:38] TF-TRT Warning: Could not find TensorRT\n"
     ]
    }
   ],
   "execution_count": 3
  },
  {
   "metadata": {
    "ExecuteTime": {
     "end_time": "2024-11-29T19:27:14.728853Z",
     "start_time": "2024-11-29T19:27:14.702261Z"
    }
   },
   "cell_type": "code",
   "source": [
    "search_path = '/home/meowater/Documents/ssd_drive/training/lidar/'\n",
    "file_list = glob.glob(search_path + '*.parquet')\n"
   ],
   "id": "a8058b883fc904ea",
   "outputs": [],
   "execution_count": 4
  },
  {
   "metadata": {
    "ExecuteTime": {
     "end_time": "2024-11-29T19:27:14.848896Z",
     "start_time": "2024-11-29T19:27:14.744305Z"
    }
   },
   "cell_type": "code",
   "source": [
    "dataset_dir = '/home/meowater/Documents/ssd_drive/training/'\n",
    "\n",
    "def read(tag: str, context_name) -> dd.DataFrame:\n",
    "  \"\"\"Creates a Dask DataFrame for the component specified by its tag.\"\"\"\n",
    "  paths = tf.io.gfile.glob(f'{dataset_dir}/{tag}/*{context_name}.parquet')\n",
    "  return dd.read_parquet(paths)"
   ],
   "id": "f42602644f8e1941",
   "outputs": [],
   "execution_count": 5
  },
  {
   "metadata": {
    "ExecuteTime": {
     "end_time": "2024-11-29T19:47:05.147755Z",
     "start_time": "2024-11-29T19:47:05.144730Z"
    }
   },
   "cell_type": "code",
   "source": [
    "def get_extrinsic(calibration):\n",
    "  \"\"\"Projects from vehicle coordinate system to image with global shutter.\n",
    "\n",
    "  Arguments:\n",
    "    calibration: Camera calibration details (including intrinsics/extrinsics).\n",
    "  Returns:\n",
    "    Array of shape [N, 3], with the latter dimension composed of (u, v, ok).\n",
    "  \"\"\"\n",
    "\n",
    "  # Populate camera image metadata. Velocity and latency stats are filled with\n",
    "  # zeroes.\n",
    "  extrinsic = tf.reshape(\n",
    "      tf.constant(list(calibration.extrinsic.transform), dtype=tf.float32),\n",
    "      [1, 4, 4])\n",
    "\n",
    "  # Perform projection and return projected image coordinates (u, v, ok).\n",
    "  return extrinsic"
   ],
   "id": "c1fb2f20c42005bb",
   "outputs": [],
   "execution_count": 28
  },
  {
   "metadata": {
    "ExecuteTime": {
     "end_time": "2024-11-29T19:29:43.708888Z",
     "start_time": "2024-11-29T19:29:43.666376Z"
    }
   },
   "cell_type": "code",
   "source": [
    "# Lazily read DataFrames for all components.\n",
    "# context_name = '15832924468527961_1564_160_1584_160'\n",
    "context_name = '3270384983482134275_3220_000_3240_000'\n",
    "# association_df = read('camera_to_lidar_box_association', context_name)\n",
    "# cam_box_df = read('camera_box', context_name)\n",
    "# cam_img_df = read('camera_image', context_name)\n",
    "# lidar_box_df = read('lidar_box', context_name)\n",
    "# cam_lidar_df = read('lidar_camera_projection', context_name)\n",
    "#\n",
    "# lidar_df = read('lidar', context_name)\n",
    "\n",
    "# lidar_pose = read('lidar_pose', context_name)\n",
    "# print(len(lidar_pose))\n",
    "\n",
    "\n",
    "lidar_df = read('lidar', context_name)\n",
    "lidar_calib_df = read('lidar_calibration', context_name)\n",
    "camera_calib_df = read('camera_calibration', context_name)\n",
    "vehicle_pose_df = read('vehicle_pose', context_name)\n",
    "projections_df = read('lidar_camera_projection', context_name)\n",
    "\n",
    "\n",
    "# print(len(lidar_df))\n",
    "# # print(len(lidar_calib_df))\n",
    "# # print(len(camera_calib_df))\n",
    "# print(len(vehicle_pose_df))\n",
    "# print(len(projections_df))\n",
    "#\n",
    "#\n",
    "# df = v2.merge(vehicle_pose_df, lidar_df)\n",
    "# print(len(df))\n",
    "#\n",
    "# df = v2.merge(df, projections_df)\n",
    "# print(len(df))"
   ],
   "id": "191406764fa0710f",
   "outputs": [],
   "execution_count": 9
  },
  {
   "metadata": {
    "ExecuteTime": {
     "end_time": "2024-11-29T19:30:16.784583Z",
     "start_time": "2024-11-29T19:30:07.734547Z"
    }
   },
   "cell_type": "code",
   "source": [
    "\n",
    "_, r_lidar = next(iter(lidar_df.iterrows()))\n",
    "lidar = v2.LiDARComponent.from_dict(r_lidar)\n",
    "\n",
    "_, r_project = next(iter(projections_df.iterrows()))\n",
    "projections = v2.LiDARCameraProjectionComponent.from_dict(r_project)\n",
    "\n",
    "\n",
    "\n",
    "# lidar = v2.LiDARComponent.from_dict(r)\n",
    "# lidar_calib = v2.LiDARCalibrationComponent.from_dict(r)\n",
    "# camera_calib = v2.CameraCalibrationComponent.from_dict(r)\n",
    "# # lidar_pose = v2.LiDARPoseComponent.from_dict(r)\n",
    "# vehicle_pose = v2.VehiclePoseComponent.from_dict(r)\n",
    "# camera_project = v2.LiDARCameraProjectionComponent.from_dict(r)\n",
    "\n"
   ],
   "id": "e09a6cc4022949ed",
   "outputs": [],
   "execution_count": 10
  },
  {
   "metadata": {
    "ExecuteTime": {
     "end_time": "2024-11-29T19:32:24.444238Z",
     "start_time": "2024-11-29T19:32:24.432341Z"
    }
   },
   "cell_type": "code",
   "source": [
    "_, r_cam_config = next(iter(camera_calib_df.iterrows()))\n",
    "cam_config = v2.CameraCalibrationComponent.from_dict(r_cam_config)\n",
    "\n",
    "_, r_lidar_config = next(iter(lidar_calib_df.iterrows()))\n",
    "lidar_config = v2.LiDARCalibrationComponent.from_dict(r_lidar_config)"
   ],
   "id": "67c3791753caeb52",
   "outputs": [],
   "execution_count": 12
  },
  {
   "metadata": {
    "ExecuteTime": {
     "end_time": "2024-11-29T19:52:58.410966Z",
     "start_time": "2024-11-29T19:52:58.407892Z"
    }
   },
   "cell_type": "code",
   "source": "print(projections)",
   "id": "971a6ad69bb46203",
   "outputs": [
    {
     "name": "stdout",
     "output_type": "stream",
     "text": [
      "LiDARCameraProjectionComponent(key=LaserKey(segment_context_name='3270384983482134275_3220_000_3240_000', frame_timestamp_micros=1549475204870940, laser_name=1), range_image_return1=CameraProjectionRangeImage(values=array([0., 0., 0., ..., 0., 0., 0.], dtype=float32), shape=array([  64, 2650,    6], dtype=int32)), range_image_return2=CameraProjectionRangeImage(values=array([0., 0., 0., ..., 0., 0., 0.], dtype=float32), shape=array([  64, 2650,    6], dtype=int32)))\n"
     ]
    }
   ],
   "execution_count": 34
  },
  {
   "metadata": {
    "ExecuteTime": {
     "end_time": "2024-11-29T19:58:51.065884Z",
     "start_time": "2024-11-29T19:58:50.945945Z"
    }
   },
   "cell_type": "code",
   "source": [
    "\n",
    "lidar_coords = lidar_utils.convert_range_image_to_cartesian(lidar.range_image_return1, lidar_config)\n",
    "lidar_coords = tf.expand_dims(lidar_coords, axis=0)\n",
    "camera_extrinsic = get_extrinsic(cam_config)\n",
    "\n",
    "camera_image_size = [cam_config.width, cam_config.height]\n",
    "test2 = projections.range_image_return1.tensor\n",
    "test2 = tf.expand_dims(test2, axis=0)\n",
    "test = build_camera_depth_image(lidar_coords, camera_extrinsic,\n",
    "                                camera_projection=test2,\n",
    "                                camera_image_size=camera_image_size,\n",
    "                                camera_name=1)"
   ],
   "id": "36181d81ef7040b4",
   "outputs": [
    {
     "ename": "InvalidArgumentError",
     "evalue": "in user code:\n\n    File \"/home/meowater/PycharmProjects/DL_Final_Project/.venv/lib/python3.10/site-packages/waymo_open_dataset/utils/range_image_utils.py\", line 462, in fn  *\n        return scatter_nd_with_pool(index, value, camera_image_size, pool_method)\n    File \"/home/meowater/PycharmProjects/DL_Final_Project/.venv/lib/python3.10/site-packages/waymo_open_dataset/utils/range_image_utils.py\", line 252, in scatter_nd_with_pool  *\n        image = tf.scatter_nd(index_unique, value_pooled, shape)\n\n    InvalidArgumentError: Value for attr 'Tindices' of float is not in the list of allowed values: int16, int32, int64\n    \t; NodeDef: {{node ScatterNd}}; Op<name=ScatterNd; signature=indices:Tindices, updates:T, shape:Tindices -> output:T; attr=T:type; attr=Tindices:type,allowed=[DT_INT16, DT_INT32, DT_INT64]> [Op:ScatterNd]\n",
     "output_type": "error",
     "traceback": [
      "\u001B[0;31m---------------------------------------------------------------------------\u001B[0m",
      "\u001B[0;31mInvalidArgumentError\u001B[0m                      Traceback (most recent call last)",
      "Cell \u001B[0;32mIn[40], line 8\u001B[0m\n\u001B[1;32m      6\u001B[0m test2 \u001B[38;5;241m=\u001B[39m projections\u001B[38;5;241m.\u001B[39mrange_image_return1\u001B[38;5;241m.\u001B[39mtensor\n\u001B[1;32m      7\u001B[0m test2 \u001B[38;5;241m=\u001B[39m tf\u001B[38;5;241m.\u001B[39mexpand_dims(test2, axis\u001B[38;5;241m=\u001B[39m\u001B[38;5;241m0\u001B[39m)\n\u001B[0;32m----> 8\u001B[0m test \u001B[38;5;241m=\u001B[39m \u001B[43mbuild_camera_depth_image\u001B[49m\u001B[43m(\u001B[49m\u001B[43mlidar_coords\u001B[49m\u001B[43m,\u001B[49m\u001B[43m \u001B[49m\u001B[43mcamera_extrinsic\u001B[49m\u001B[43m,\u001B[49m\n\u001B[1;32m      9\u001B[0m \u001B[43m                                \u001B[49m\u001B[43mcamera_projection\u001B[49m\u001B[38;5;241;43m=\u001B[39;49m\u001B[43mtest2\u001B[49m\u001B[43m,\u001B[49m\n\u001B[1;32m     10\u001B[0m \u001B[43m                                \u001B[49m\u001B[43mcamera_image_size\u001B[49m\u001B[38;5;241;43m=\u001B[39;49m\u001B[43mcamera_image_size\u001B[49m\u001B[43m,\u001B[49m\n\u001B[1;32m     11\u001B[0m \u001B[43m                                \u001B[49m\u001B[43mcamera_name\u001B[49m\u001B[38;5;241;43m=\u001B[39;49m\u001B[38;5;241;43m1\u001B[39;49m\u001B[43m)\u001B[49m\n",
      "File \u001B[0;32m~/PycharmProjects/DL_Final_Project/.venv/lib/python3.10/site-packages/waymo_open_dataset/utils/range_image_utils.py:464\u001B[0m, in \u001B[0;36mbuild_camera_depth_image\u001B[0;34m(range_image_cartesian, extrinsic, camera_projection, camera_image_size, camera_name, pool_method, scope)\u001B[0m\n\u001B[1;32m    461\u001B[0m   value \u001B[38;5;241m=\u001B[39m tf\u001B[38;5;241m.\u001B[39mgather_nd(ri_range, mask_ids)\n\u001B[1;32m    462\u001B[0m   \u001B[38;5;28;01mreturn\u001B[39;00m scatter_nd_with_pool(index, value, camera_image_size, pool_method)\n\u001B[0;32m--> 464\u001B[0m images \u001B[38;5;241m=\u001B[39m \u001B[43mtf\u001B[49m\u001B[38;5;241;43m.\u001B[39;49m\u001B[43mmap_fn\u001B[49m\u001B[43m(\u001B[49m\n\u001B[1;32m    465\u001B[0m \u001B[43m    \u001B[49m\u001B[43mfn\u001B[49m\u001B[43m,\u001B[49m\n\u001B[1;32m    466\u001B[0m \u001B[43m    \u001B[49m\u001B[43melems\u001B[49m\u001B[38;5;241;43m=\u001B[39;49m\u001B[43m[\u001B[49m\n\u001B[1;32m    467\u001B[0m \u001B[43m        \u001B[49m\u001B[43mcamera_projection_mask\u001B[49m\u001B[43m,\u001B[49m\u001B[43m \u001B[49m\u001B[43mrange_image_camera_norm\u001B[49m\u001B[43m,\u001B[49m\n\u001B[1;32m    468\u001B[0m \u001B[43m        \u001B[49m\u001B[43mcamera_projection_selected\u001B[49m\n\u001B[1;32m    469\u001B[0m \u001B[43m    \u001B[49m\u001B[43m]\u001B[49m\u001B[43m,\u001B[49m\n\u001B[1;32m    470\u001B[0m \u001B[43m    \u001B[49m\u001B[43mdtype\u001B[49m\u001B[38;5;241;43m=\u001B[39;49m\u001B[43mrange_image_camera_norm\u001B[49m\u001B[38;5;241;43m.\u001B[39;49m\u001B[43mdtype\u001B[49m\u001B[43m,\u001B[49m\n\u001B[1;32m    471\u001B[0m \u001B[43m    \u001B[49m\u001B[43mback_prop\u001B[49m\u001B[38;5;241;43m=\u001B[39;49m\u001B[38;5;28;43;01mFalse\u001B[39;49;00m\u001B[43m)\u001B[49m\n\u001B[1;32m    472\u001B[0m \u001B[38;5;28;01mreturn\u001B[39;00m images\n",
      "File \u001B[0;32m~/PycharmProjects/DL_Final_Project/.venv/lib/python3.10/site-packages/tensorflow/python/util/deprecation.py:648\u001B[0m, in \u001B[0;36mdeprecated_arg_values.<locals>.deprecated_wrapper.<locals>.new_func\u001B[0;34m(*args, **kwargs)\u001B[0m\n\u001B[1;32m    640\u001B[0m           _PRINTED_WARNING[(func, arg_name)] \u001B[38;5;241m=\u001B[39m \u001B[38;5;28;01mTrue\u001B[39;00m\n\u001B[1;32m    641\u001B[0m         logging\u001B[38;5;241m.\u001B[39mwarning(\n\u001B[1;32m    642\u001B[0m             \u001B[38;5;124m'\u001B[39m\u001B[38;5;124mFrom \u001B[39m\u001B[38;5;132;01m%s\u001B[39;00m\u001B[38;5;124m: calling \u001B[39m\u001B[38;5;132;01m%s\u001B[39;00m\u001B[38;5;124m (from \u001B[39m\u001B[38;5;132;01m%s\u001B[39;00m\u001B[38;5;124m) with \u001B[39m\u001B[38;5;132;01m%s\u001B[39;00m\u001B[38;5;124m=\u001B[39m\u001B[38;5;132;01m%s\u001B[39;00m\u001B[38;5;124m is deprecated and \u001B[39m\u001B[38;5;124m'\u001B[39m\n\u001B[1;32m    643\u001B[0m             \u001B[38;5;124m'\u001B[39m\u001B[38;5;124mwill be removed \u001B[39m\u001B[38;5;132;01m%s\u001B[39;00m\u001B[38;5;124m.\u001B[39m\u001B[38;5;130;01m\\n\u001B[39;00m\u001B[38;5;124mInstructions for updating:\u001B[39m\u001B[38;5;130;01m\\n\u001B[39;00m\u001B[38;5;132;01m%s\u001B[39;00m\u001B[38;5;124m'\u001B[39m,\n\u001B[0;32m   (...)\u001B[0m\n\u001B[1;32m    646\u001B[0m             \u001B[38;5;124m'\u001B[39m\u001B[38;5;124min a future version\u001B[39m\u001B[38;5;124m'\u001B[39m \u001B[38;5;28;01mif\u001B[39;00m date \u001B[38;5;129;01mis\u001B[39;00m \u001B[38;5;28;01mNone\u001B[39;00m \u001B[38;5;28;01melse\u001B[39;00m\n\u001B[1;32m    647\u001B[0m             (\u001B[38;5;124m'\u001B[39m\u001B[38;5;124mafter \u001B[39m\u001B[38;5;132;01m%s\u001B[39;00m\u001B[38;5;124m'\u001B[39m \u001B[38;5;241m%\u001B[39m date), instructions)\n\u001B[0;32m--> 648\u001B[0m \u001B[38;5;28;01mreturn\u001B[39;00m \u001B[43mfunc\u001B[49m\u001B[43m(\u001B[49m\u001B[38;5;241;43m*\u001B[39;49m\u001B[43margs\u001B[49m\u001B[43m,\u001B[49m\u001B[43m \u001B[49m\u001B[38;5;241;43m*\u001B[39;49m\u001B[38;5;241;43m*\u001B[39;49m\u001B[43mkwargs\u001B[49m\u001B[43m)\u001B[49m\n",
      "File \u001B[0;32m~/PycharmProjects/DL_Final_Project/.venv/lib/python3.10/site-packages/tensorflow/python/util/deprecation.py:576\u001B[0m, in \u001B[0;36mdeprecated_args.<locals>.deprecated_wrapper.<locals>.new_func\u001B[0;34m(*args, **kwargs)\u001B[0m\n\u001B[1;32m    568\u001B[0m         _PRINTED_WARNING[(func, arg_name)] \u001B[38;5;241m=\u001B[39m \u001B[38;5;28;01mTrue\u001B[39;00m\n\u001B[1;32m    569\u001B[0m       logging\u001B[38;5;241m.\u001B[39mwarning(\n\u001B[1;32m    570\u001B[0m           \u001B[38;5;124m'\u001B[39m\u001B[38;5;124mFrom \u001B[39m\u001B[38;5;132;01m%s\u001B[39;00m\u001B[38;5;124m: calling \u001B[39m\u001B[38;5;132;01m%s\u001B[39;00m\u001B[38;5;124m (from \u001B[39m\u001B[38;5;132;01m%s\u001B[39;00m\u001B[38;5;124m) with \u001B[39m\u001B[38;5;132;01m%s\u001B[39;00m\u001B[38;5;124m is deprecated and will \u001B[39m\u001B[38;5;124m'\u001B[39m\n\u001B[1;32m    571\u001B[0m           \u001B[38;5;124m'\u001B[39m\u001B[38;5;124mbe removed \u001B[39m\u001B[38;5;132;01m%s\u001B[39;00m\u001B[38;5;124m.\u001B[39m\u001B[38;5;130;01m\\n\u001B[39;00m\u001B[38;5;124mInstructions for updating:\u001B[39m\u001B[38;5;130;01m\\n\u001B[39;00m\u001B[38;5;132;01m%s\u001B[39;00m\u001B[38;5;124m'\u001B[39m,\n\u001B[0;32m   (...)\u001B[0m\n\u001B[1;32m    574\u001B[0m           \u001B[38;5;124m'\u001B[39m\u001B[38;5;124min a future version\u001B[39m\u001B[38;5;124m'\u001B[39m \u001B[38;5;28;01mif\u001B[39;00m date \u001B[38;5;129;01mis\u001B[39;00m \u001B[38;5;28;01mNone\u001B[39;00m \u001B[38;5;28;01melse\u001B[39;00m (\u001B[38;5;124m'\u001B[39m\u001B[38;5;124mafter \u001B[39m\u001B[38;5;132;01m%s\u001B[39;00m\u001B[38;5;124m'\u001B[39m \u001B[38;5;241m%\u001B[39m date),\n\u001B[1;32m    575\u001B[0m           instructions)\n\u001B[0;32m--> 576\u001B[0m \u001B[38;5;28;01mreturn\u001B[39;00m \u001B[43mfunc\u001B[49m\u001B[43m(\u001B[49m\u001B[38;5;241;43m*\u001B[39;49m\u001B[43margs\u001B[49m\u001B[43m,\u001B[49m\u001B[43m \u001B[49m\u001B[38;5;241;43m*\u001B[39;49m\u001B[38;5;241;43m*\u001B[39;49m\u001B[43mkwargs\u001B[49m\u001B[43m)\u001B[49m\n",
      "File \u001B[0;32m~/PycharmProjects/DL_Final_Project/.venv/lib/python3.10/site-packages/tensorflow/python/ops/map_fn.py:640\u001B[0m, in \u001B[0;36mmap_fn_v2\u001B[0;34m(fn, elems, dtype, parallel_iterations, back_prop, swap_memory, infer_shape, name, fn_output_signature)\u001B[0m\n\u001B[1;32m    638\u001B[0m \u001B[38;5;28;01mif\u001B[39;00m fn_output_signature \u001B[38;5;129;01mis\u001B[39;00m \u001B[38;5;28;01mNone\u001B[39;00m:\n\u001B[1;32m    639\u001B[0m   fn_output_signature \u001B[38;5;241m=\u001B[39m dtype\n\u001B[0;32m--> 640\u001B[0m \u001B[38;5;28;01mreturn\u001B[39;00m \u001B[43mmap_fn\u001B[49m\u001B[43m(\u001B[49m\n\u001B[1;32m    641\u001B[0m \u001B[43m    \u001B[49m\u001B[43mfn\u001B[49m\u001B[38;5;241;43m=\u001B[39;49m\u001B[43mfn\u001B[49m\u001B[43m,\u001B[49m\n\u001B[1;32m    642\u001B[0m \u001B[43m    \u001B[49m\u001B[43melems\u001B[49m\u001B[38;5;241;43m=\u001B[39;49m\u001B[43melems\u001B[49m\u001B[43m,\u001B[49m\n\u001B[1;32m    643\u001B[0m \u001B[43m    \u001B[49m\u001B[43mfn_output_signature\u001B[49m\u001B[38;5;241;43m=\u001B[39;49m\u001B[43mfn_output_signature\u001B[49m\u001B[43m,\u001B[49m\n\u001B[1;32m    644\u001B[0m \u001B[43m    \u001B[49m\u001B[43mparallel_iterations\u001B[49m\u001B[38;5;241;43m=\u001B[39;49m\u001B[43mparallel_iterations\u001B[49m\u001B[43m,\u001B[49m\n\u001B[1;32m    645\u001B[0m \u001B[43m    \u001B[49m\u001B[43mback_prop\u001B[49m\u001B[38;5;241;43m=\u001B[39;49m\u001B[43mback_prop\u001B[49m\u001B[43m,\u001B[49m\n\u001B[1;32m    646\u001B[0m \u001B[43m    \u001B[49m\u001B[43mswap_memory\u001B[49m\u001B[38;5;241;43m=\u001B[39;49m\u001B[43mswap_memory\u001B[49m\u001B[43m,\u001B[49m\n\u001B[1;32m    647\u001B[0m \u001B[43m    \u001B[49m\u001B[43minfer_shape\u001B[49m\u001B[38;5;241;43m=\u001B[39;49m\u001B[43minfer_shape\u001B[49m\u001B[43m,\u001B[49m\n\u001B[1;32m    648\u001B[0m \u001B[43m    \u001B[49m\u001B[43mname\u001B[49m\u001B[38;5;241;43m=\u001B[39;49m\u001B[43mname\u001B[49m\u001B[43m)\u001B[49m\n",
      "File \u001B[0;32m~/PycharmProjects/DL_Final_Project/.venv/lib/python3.10/site-packages/tensorflow/python/util/deprecation.py:576\u001B[0m, in \u001B[0;36mdeprecated_args.<locals>.deprecated_wrapper.<locals>.new_func\u001B[0;34m(*args, **kwargs)\u001B[0m\n\u001B[1;32m    568\u001B[0m         _PRINTED_WARNING[(func, arg_name)] \u001B[38;5;241m=\u001B[39m \u001B[38;5;28;01mTrue\u001B[39;00m\n\u001B[1;32m    569\u001B[0m       logging\u001B[38;5;241m.\u001B[39mwarning(\n\u001B[1;32m    570\u001B[0m           \u001B[38;5;124m'\u001B[39m\u001B[38;5;124mFrom \u001B[39m\u001B[38;5;132;01m%s\u001B[39;00m\u001B[38;5;124m: calling \u001B[39m\u001B[38;5;132;01m%s\u001B[39;00m\u001B[38;5;124m (from \u001B[39m\u001B[38;5;132;01m%s\u001B[39;00m\u001B[38;5;124m) with \u001B[39m\u001B[38;5;132;01m%s\u001B[39;00m\u001B[38;5;124m is deprecated and will \u001B[39m\u001B[38;5;124m'\u001B[39m\n\u001B[1;32m    571\u001B[0m           \u001B[38;5;124m'\u001B[39m\u001B[38;5;124mbe removed \u001B[39m\u001B[38;5;132;01m%s\u001B[39;00m\u001B[38;5;124m.\u001B[39m\u001B[38;5;130;01m\\n\u001B[39;00m\u001B[38;5;124mInstructions for updating:\u001B[39m\u001B[38;5;130;01m\\n\u001B[39;00m\u001B[38;5;132;01m%s\u001B[39;00m\u001B[38;5;124m'\u001B[39m,\n\u001B[0;32m   (...)\u001B[0m\n\u001B[1;32m    574\u001B[0m           \u001B[38;5;124m'\u001B[39m\u001B[38;5;124min a future version\u001B[39m\u001B[38;5;124m'\u001B[39m \u001B[38;5;28;01mif\u001B[39;00m date \u001B[38;5;129;01mis\u001B[39;00m \u001B[38;5;28;01mNone\u001B[39;00m \u001B[38;5;28;01melse\u001B[39;00m (\u001B[38;5;124m'\u001B[39m\u001B[38;5;124mafter \u001B[39m\u001B[38;5;132;01m%s\u001B[39;00m\u001B[38;5;124m'\u001B[39m \u001B[38;5;241m%\u001B[39m date),\n\u001B[1;32m    575\u001B[0m           instructions)\n\u001B[0;32m--> 576\u001B[0m \u001B[38;5;28;01mreturn\u001B[39;00m \u001B[43mfunc\u001B[49m\u001B[43m(\u001B[49m\u001B[38;5;241;43m*\u001B[39;49m\u001B[43margs\u001B[49m\u001B[43m,\u001B[49m\u001B[43m \u001B[49m\u001B[38;5;241;43m*\u001B[39;49m\u001B[38;5;241;43m*\u001B[39;49m\u001B[43mkwargs\u001B[49m\u001B[43m)\u001B[49m\n",
      "File \u001B[0;32m~/PycharmProjects/DL_Final_Project/.venv/lib/python3.10/site-packages/tensorflow/python/ops/map_fn.py:498\u001B[0m, in \u001B[0;36mmap_fn\u001B[0;34m(fn, elems, dtype, parallel_iterations, back_prop, swap_memory, infer_shape, name, fn_output_signature)\u001B[0m\n\u001B[1;32m    493\u001B[0m   tas \u001B[38;5;241m=\u001B[39m [\n\u001B[1;32m    494\u001B[0m       ta\u001B[38;5;241m.\u001B[39mwrite(i, value) \u001B[38;5;28;01mfor\u001B[39;00m (ta, value) \u001B[38;5;129;01min\u001B[39;00m \u001B[38;5;28mzip\u001B[39m(tas, result_value_batchable)\n\u001B[1;32m    495\u001B[0m   ]\n\u001B[1;32m    496\u001B[0m   \u001B[38;5;28;01mreturn\u001B[39;00m (i \u001B[38;5;241m+\u001B[39m \u001B[38;5;241m1\u001B[39m, tas)\n\u001B[0;32m--> 498\u001B[0m _, r_a \u001B[38;5;241m=\u001B[39m \u001B[43mcontrol_flow_ops\u001B[49m\u001B[38;5;241;43m.\u001B[39;49m\u001B[43mwhile_loop\u001B[49m\u001B[43m(\u001B[49m\n\u001B[1;32m    499\u001B[0m \u001B[43m    \u001B[49m\u001B[38;5;28;43;01mlambda\u001B[39;49;00m\u001B[43m \u001B[49m\u001B[43mi\u001B[49m\u001B[43m,\u001B[49m\u001B[43m \u001B[49m\u001B[43m_\u001B[49m\u001B[43m:\u001B[49m\u001B[43m \u001B[49m\u001B[43mi\u001B[49m\u001B[43m \u001B[49m\u001B[38;5;241;43m<\u001B[39;49m\u001B[43m \u001B[49m\u001B[43mn\u001B[49m\u001B[43m,\u001B[49m\n\u001B[1;32m    500\u001B[0m \u001B[43m    \u001B[49m\u001B[43mcompute\u001B[49m\u001B[43m,\u001B[49m\u001B[43m \u001B[49m\u001B[43m(\u001B[49m\u001B[43mi\u001B[49m\u001B[43m,\u001B[49m\u001B[43m \u001B[49m\u001B[43mresult_batchable_ta\u001B[49m\u001B[43m)\u001B[49m\u001B[43m,\u001B[49m\n\u001B[1;32m    501\u001B[0m \u001B[43m    \u001B[49m\u001B[43mparallel_iterations\u001B[49m\u001B[38;5;241;43m=\u001B[39;49m\u001B[43mparallel_iterations\u001B[49m\u001B[43m,\u001B[49m\n\u001B[1;32m    502\u001B[0m \u001B[43m    \u001B[49m\u001B[43mback_prop\u001B[49m\u001B[38;5;241;43m=\u001B[39;49m\u001B[43mback_prop\u001B[49m\u001B[43m,\u001B[49m\n\u001B[1;32m    503\u001B[0m \u001B[43m    \u001B[49m\u001B[43mswap_memory\u001B[49m\u001B[38;5;241;43m=\u001B[39;49m\u001B[43mswap_memory\u001B[49m\u001B[43m,\u001B[49m\n\u001B[1;32m    504\u001B[0m \u001B[43m    \u001B[49m\u001B[43mmaximum_iterations\u001B[49m\u001B[38;5;241;43m=\u001B[39;49m\u001B[43mn\u001B[49m\u001B[43m)\u001B[49m\n\u001B[1;32m    505\u001B[0m result_batchable \u001B[38;5;241m=\u001B[39m [r\u001B[38;5;241m.\u001B[39mstack() \u001B[38;5;28;01mfor\u001B[39;00m r \u001B[38;5;129;01min\u001B[39;00m r_a]\n\u001B[1;32m    507\u001B[0m \u001B[38;5;66;03m# Update each output tensor w/ static shape info about the outer dimension.\u001B[39;00m\n",
      "File \u001B[0;32m~/PycharmProjects/DL_Final_Project/.venv/lib/python3.10/site-packages/tensorflow/python/ops/control_flow_ops.py:2823\u001B[0m, in \u001B[0;36mwhile_loop\u001B[0;34m(cond, body, loop_vars, shape_invariants, parallel_iterations, back_prop, swap_memory, name, maximum_iterations, return_same_structure)\u001B[0m\n\u001B[1;32m   2820\u001B[0m loop_var_structure \u001B[38;5;241m=\u001B[39m nest\u001B[38;5;241m.\u001B[39mmap_structure(type_spec\u001B[38;5;241m.\u001B[39mtype_spec_from_value,\n\u001B[1;32m   2821\u001B[0m                                         \u001B[38;5;28mlist\u001B[39m(loop_vars))\n\u001B[1;32m   2822\u001B[0m \u001B[38;5;28;01mwhile\u001B[39;00m cond(\u001B[38;5;241m*\u001B[39mloop_vars):\n\u001B[0;32m-> 2823\u001B[0m   loop_vars \u001B[38;5;241m=\u001B[39m \u001B[43mbody\u001B[49m\u001B[43m(\u001B[49m\u001B[38;5;241;43m*\u001B[39;49m\u001B[43mloop_vars\u001B[49m\u001B[43m)\u001B[49m\n\u001B[1;32m   2824\u001B[0m   \u001B[38;5;28;01mif\u001B[39;00m try_to_pack \u001B[38;5;129;01mand\u001B[39;00m \u001B[38;5;129;01mnot\u001B[39;00m \u001B[38;5;28misinstance\u001B[39m(loop_vars, (\u001B[38;5;28mlist\u001B[39m, _basetuple)):\n\u001B[1;32m   2825\u001B[0m     packed \u001B[38;5;241m=\u001B[39m \u001B[38;5;28;01mTrue\u001B[39;00m\n",
      "File \u001B[0;32m~/PycharmProjects/DL_Final_Project/.venv/lib/python3.10/site-packages/tensorflow/python/ops/control_flow_ops.py:2814\u001B[0m, in \u001B[0;36mwhile_loop.<locals>.<lambda>\u001B[0;34m(i, lv)\u001B[0m\n\u001B[1;32m   2811\u001B[0m     loop_vars \u001B[38;5;241m=\u001B[39m (counter, loop_vars)\n\u001B[1;32m   2812\u001B[0m     cond \u001B[38;5;241m=\u001B[39m \u001B[38;5;28;01mlambda\u001B[39;00m i, lv: (  \u001B[38;5;66;03m# pylint: disable=g-long-lambda\u001B[39;00m\n\u001B[1;32m   2813\u001B[0m         math_ops\u001B[38;5;241m.\u001B[39mlogical_and(i \u001B[38;5;241m<\u001B[39m maximum_iterations, orig_cond(\u001B[38;5;241m*\u001B[39mlv)))\n\u001B[0;32m-> 2814\u001B[0m     body \u001B[38;5;241m=\u001B[39m \u001B[38;5;28;01mlambda\u001B[39;00m i, lv: (i \u001B[38;5;241m+\u001B[39m \u001B[38;5;241m1\u001B[39m, \u001B[43morig_body\u001B[49m\u001B[43m(\u001B[49m\u001B[38;5;241;43m*\u001B[39;49m\u001B[43mlv\u001B[49m\u001B[43m)\u001B[49m)\n\u001B[1;32m   2815\u001B[0m   try_to_pack \u001B[38;5;241m=\u001B[39m \u001B[38;5;28;01mFalse\u001B[39;00m\n\u001B[1;32m   2817\u001B[0m \u001B[38;5;28;01mif\u001B[39;00m executing_eagerly:\n",
      "File \u001B[0;32m~/PycharmProjects/DL_Final_Project/.venv/lib/python3.10/site-packages/tensorflow/python/ops/map_fn.py:488\u001B[0m, in \u001B[0;36mmap_fn.<locals>.compute\u001B[0;34m(i, tas)\u001B[0m\n\u001B[1;32m    486\u001B[0m ag_ctx \u001B[38;5;241m=\u001B[39m autograph_ctx\u001B[38;5;241m.\u001B[39mcontrol_status_ctx()\n\u001B[1;32m    487\u001B[0m autographed_fn \u001B[38;5;241m=\u001B[39m autograph\u001B[38;5;241m.\u001B[39mtf_convert(fn, ag_ctx)\n\u001B[0;32m--> 488\u001B[0m result_value \u001B[38;5;241m=\u001B[39m \u001B[43mautographed_fn\u001B[49m\u001B[43m(\u001B[49m\u001B[43melems_value\u001B[49m\u001B[43m)\u001B[49m\n\u001B[1;32m    489\u001B[0m nest\u001B[38;5;241m.\u001B[39massert_same_structure(fn_output_signature \u001B[38;5;129;01mor\u001B[39;00m elems, result_value)\n\u001B[1;32m    490\u001B[0m result_value_flat \u001B[38;5;241m=\u001B[39m nest\u001B[38;5;241m.\u001B[39mflatten(result_value)\n",
      "File \u001B[0;32m~/PycharmProjects/DL_Final_Project/.venv/lib/python3.10/site-packages/tensorflow/python/autograph/impl/api.py:692\u001B[0m, in \u001B[0;36mconvert.<locals>.decorator.<locals>.wrapper\u001B[0;34m(*args, **kwargs)\u001B[0m\n\u001B[1;32m    690\u001B[0m \u001B[38;5;28;01mexcept\u001B[39;00m \u001B[38;5;167;01mException\u001B[39;00m \u001B[38;5;28;01mas\u001B[39;00m e:  \u001B[38;5;66;03m# pylint:disable=broad-except\u001B[39;00m\n\u001B[1;32m    691\u001B[0m   \u001B[38;5;28;01mif\u001B[39;00m \u001B[38;5;28mhasattr\u001B[39m(e, \u001B[38;5;124m'\u001B[39m\u001B[38;5;124mag_error_metadata\u001B[39m\u001B[38;5;124m'\u001B[39m):\n\u001B[0;32m--> 692\u001B[0m     \u001B[38;5;28;01mraise\u001B[39;00m e\u001B[38;5;241m.\u001B[39mag_error_metadata\u001B[38;5;241m.\u001B[39mto_exception(e)\n\u001B[1;32m    693\u001B[0m   \u001B[38;5;28;01melse\u001B[39;00m:\n\u001B[1;32m    694\u001B[0m     \u001B[38;5;28;01mraise\u001B[39;00m\n",
      "\u001B[0;31mInvalidArgumentError\u001B[0m: in user code:\n\n    File \"/home/meowater/PycharmProjects/DL_Final_Project/.venv/lib/python3.10/site-packages/waymo_open_dataset/utils/range_image_utils.py\", line 462, in fn  *\n        return scatter_nd_with_pool(index, value, camera_image_size, pool_method)\n    File \"/home/meowater/PycharmProjects/DL_Final_Project/.venv/lib/python3.10/site-packages/waymo_open_dataset/utils/range_image_utils.py\", line 252, in scatter_nd_with_pool  *\n        image = tf.scatter_nd(index_unique, value_pooled, shape)\n\n    InvalidArgumentError: Value for attr 'Tindices' of float is not in the list of allowed values: int16, int32, int64\n    \t; NodeDef: {{node ScatterNd}}; Op<name=ScatterNd; signature=indices:Tindices, updates:T, shape:Tindices -> output:T; attr=T:type; attr=Tindices:type,allowed=[DT_INT16, DT_INT32, DT_INT64]> [Op:ScatterNd]\n"
     ]
    }
   ],
   "execution_count": 40
  },
  {
   "metadata": {},
   "cell_type": "code",
   "outputs": [],
   "execution_count": null,
   "source": "",
   "id": "d43077187bb2b8da"
  }
 ],
 "metadata": {
  "kernelspec": {
   "display_name": "Python 3",
   "language": "python",
   "name": "python3"
  },
  "language_info": {
   "codemirror_mode": {
    "name": "ipython",
    "version": 2
   },
   "file_extension": ".py",
   "mimetype": "text/x-python",
   "name": "python",
   "nbconvert_exporter": "python",
   "pygments_lexer": "ipython2",
   "version": "2.7.6"
  }
 },
 "nbformat": 4,
 "nbformat_minor": 5
}
