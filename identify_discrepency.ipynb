{
 "cells": [
  {
   "cell_type": "code",
   "id": "initial_id",
   "metadata": {
    "collapsed": true,
    "ExecuteTime": {
     "end_time": "2024-11-29T06:44:04.823795Z",
     "start_time": "2024-11-29T06:44:04.815676Z"
    }
   },
   "source": [
    "import glob\n",
    "\n",
    "from correct_image_filename import context_name"
   ],
   "outputs": [],
   "execution_count": 2
  },
  {
   "metadata": {
    "ExecuteTime": {
     "end_time": "2024-11-29T06:50:04.180264Z",
     "start_time": "2024-11-29T06:50:04.177773Z"
    }
   },
   "cell_type": "code",
   "source": [
    "image_path = '/home/meowater/Documents/ssd_drive/compressed_camera_images2/*/*.jpg'\n",
    "box_path = '/home/meowater/Documents/ssd_drive/cam_box_per_image/*/*.pkl'"
   ],
   "id": "85c662b6e5c73eb5",
   "outputs": [],
   "execution_count": 24
  },
  {
   "metadata": {
    "ExecuteTime": {
     "end_time": "2024-11-29T06:50:22.924675Z",
     "start_time": "2024-11-29T06:50:22.451370Z"
    }
   },
   "cell_type": "code",
   "source": [
    "image_list = glob.glob(image_path, recursive=True)\n",
    "box_list = glob.glob(box_path, recursive=True)"
   ],
   "id": "746f5f9e1ee42976",
   "outputs": [],
   "execution_count": 27
  },
  {
   "metadata": {
    "ExecuteTime": {
     "end_time": "2024-11-29T06:50:24.953719Z",
     "start_time": "2024-11-29T06:50:24.951485Z"
    }
   },
   "cell_type": "code",
   "source": [
    "print(len(image_list))\n",
    "print(len(box_list))"
   ],
   "id": "5c9ccaef65281169",
   "outputs": [
    {
     "name": "stdout",
     "output_type": "stream",
     "text": [
      "158081\n",
      "153697\n"
     ]
    }
   ],
   "execution_count": 28
  },
  {
   "metadata": {
    "ExecuteTime": {
     "end_time": "2024-11-29T06:54:29.167127Z",
     "start_time": "2024-11-29T06:54:29.015851Z"
    }
   },
   "cell_type": "code",
   "source": [
    "image_patterns = []\n",
    "for fn in image_list:\n",
    "    nameparts = fn.split('/')[-1].split('.')[0].split('_')\n",
    "    context_name = fn.split('/')[-2]\n",
    "    pattern = context_name + '_' + nameparts[-1]\n",
    "    image_patterns.append(pattern)\n"
   ],
   "id": "38d786d9470a5b23",
   "outputs": [],
   "execution_count": 34
  },
  {
   "metadata": {
    "ExecuteTime": {
     "end_time": "2024-11-29T06:54:56.119122Z",
     "start_time": "2024-11-29T06:54:55.950454Z"
    }
   },
   "cell_type": "code",
   "source": [
    "box_patterns = []\n",
    "for fn in box_list:\n",
    "    nameparts = fn.split('/')[-1].split('.')[0].split('_')\n",
    "    context_name = fn.split('/')[-2]\n",
    "    pattern = context_name + '_' + nameparts[-1]\n",
    "    box_patterns.append(pattern)\n"
   ],
   "id": "f247e5b8ef059dab",
   "outputs": [],
   "execution_count": 37
  },
  {
   "metadata": {
    "ExecuteTime": {
     "end_time": "2024-11-29T06:57:59.605504Z",
     "start_time": "2024-11-29T06:57:59.553656Z"
    }
   },
   "cell_type": "code",
   "source": [
    "print(len(image_patterns))\n",
    "\n",
    "print(len(box_patterns))\n",
    "\n",
    "image_set = set(image_patterns)\n",
    "box_set = set(box_patterns)\n",
    "\n",
    "unique_to_list1 = image_set.difference(box_set)\n",
    "unique_to_list2 = box_set.difference(image_set)"
   ],
   "id": "72a44a690b00801f",
   "outputs": [
    {
     "name": "stdout",
     "output_type": "stream",
     "text": [
      "158081\n",
      "153697\n"
     ]
    }
   ],
   "execution_count": 39
  },
  {
   "metadata": {
    "ExecuteTime": {
     "end_time": "2024-11-29T06:58:12.848310Z",
     "start_time": "2024-11-29T06:58:12.843008Z"
    }
   },
   "cell_type": "code",
   "source": [
    "print(len(unique_to_list1))\n",
    "\n",
    "print(len(unique_to_list2))"
   ],
   "id": "580154cc3fe88b7",
   "outputs": [
    {
     "name": "stdout",
     "output_type": "stream",
     "text": [
      "4384\n",
      "0\n"
     ]
    }
   ],
   "execution_count": 40
  },
  {
   "metadata": {
    "ExecuteTime": {
     "end_time": "2024-11-29T07:07:35.396838Z",
     "start_time": "2024-11-29T07:07:35.390647Z"
    }
   },
   "cell_type": "code",
   "source": "print(list(unique_to_list1)[0:10])",
   "id": "2b228573408d90ec",
   "outputs": [
    {
     "name": "stdout",
     "output_type": "stream",
     "text": [
      "['2618605158242502527_1860_000_1880_000_timestamp-1552675805377941', '7912728502266478772_1202_200_1222_200_timestamp-1506905341613238', '6193696614129429757_2420_000_2440_000_timestamp-1554132721963714', '13181198025433053194_2620_770_2640_770_timestamp-1521941579616613', '6814918034011049245_134_170_154_170_timestamp-1507312507077188', '5100136784230856773_2517_300_2537_300_timestamp-1507658116346841', '7038362761309539946_4207_130_4227_130_timestamp-1510874926613927', '14503113925613619599_975_506_995_506_timestamp-1513295083923160', '12894036666871194216_787_000_807_000_timestamp-1521831425337149', '18418533015310829002_480_000_500_000_timestamp-1550088117352985']\n"
     ]
    }
   ],
   "execution_count": 43
  },
  {
   "metadata": {},
   "cell_type": "code",
   "outputs": [],
   "execution_count": null,
   "source": "",
   "id": "b96fe2999b475da6"
  }
 ],
 "metadata": {
  "kernelspec": {
   "display_name": "Python 3",
   "language": "python",
   "name": "python3"
  },
  "language_info": {
   "codemirror_mode": {
    "name": "ipython",
    "version": 2
   },
   "file_extension": ".py",
   "mimetype": "text/x-python",
   "name": "python",
   "nbconvert_exporter": "python",
   "pygments_lexer": "ipython2",
   "version": "2.7.6"
  }
 },
 "nbformat": 4,
 "nbformat_minor": 5
}
